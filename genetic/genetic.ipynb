{
 "cells": [
  {
   "cell_type": "code",
   "execution_count": 1,
   "metadata": {},
   "outputs": [],
   "source": [
    "import deap\n",
    "import pandas as pd\n",
    "import numpy as py"
   ]
  },
  {
   "cell_type": "code",
   "execution_count": null,
   "metadata": {},
   "outputs": [],
   "source": [
    "class Genetic:\n",
    "    \"\"\" Wrapper class for deap genetic algorithms\n",
    "    \"\"\"\n",
    "    \n",
    "    def _init_(self, beginning_networks, data):\n",
    "    \"\"\" Initialize genetic class\n",
    "    \n",
    "        :param: self: current genetic class\n",
    "        :param: beginning_networks: first neural networks to start evolving\n",
    "        :param: data: array/list/data structure of useful replay data\n",
    "    \"\"\"\n",
    "        # IMPORTANT\n",
    "        self.finalCount = 10;\n",
    "            # How many individuals do we want in the end?\n",
    "    \n",
    "        self.networks = beginning_networks\n",
    "        self.data = data\n",
    "        self.toolbox = Toolbox()\n",
    "        self.tournsize = 2\n",
    "            # number of parents selected from each generation\n",
    "        self.genSize = 10\n",
    "        self.cxpb = 1.0\n",
    "            # probability of mating two individuals\n",
    "        self.mutpb = 0.20\n",
    "            # probability of mutating\n",
    "        self.ngen = 10000\n",
    "            # 10000 is probably far too low/high.\n",
    "                # I pulled it out of a hat.\n",
    "            # TODO see if there's a standard value or\n",
    "                # if we just need to do trial & error\n",
    "                # to balance time & performance.\n",
    "        \n",
    "    def begin(self):\n",
    "    \"\"\" \n",
    "        Toolbox needs aliases: mate, mutate, select, evaluate\n",
    "    \"\"\"\n",
    "        self.toolbox.register(\"mate\", ,)\n",
    "            #TODO write custom crossover function\n",
    "        self.toolbox.register(\"mutate\", ,)\n",
    "            #TODO write custom mutation function\n",
    "        self.toolbox.register(\"select\"\n",
    "            , deap.tools.selTournament\n",
    "                #...(individuals, k, tournsize, fit_attr='fitness')\n",
    "            , k = self.genSize\n",
    "            , tournsize = self.tournsize\n",
    "            , fit_attr = 'fitness')\n",
    "        self.toolbox.register(\"evaluate\", ,)\n",
    "            #TODO write custom evaluate function\n",
    "        \n",
    "        population = self.networks\n",
    "        cxpb = self.cxpb\n",
    "            # probability of mating two individuals\n",
    "        mutpb = self.mutpb\n",
    "            # probability of mutating an individual\n",
    "        ngen = self.ngen\n",
    "        halloffame = deap.tools.HallOfFame( self.finalCount )\n",
    "            # Object that keeps track of the x best individuals.\n",
    "            # x = self.finalCount = number of individuals we want in the end\n",
    "        \n",
    "        deap.algorithms.eaSimple(population, self.toolbox, cxpb, mutpb, ngen, halloffame)\n",
    "        \n",
    "        "
   ]
  }
 ],
 "metadata": {
  "kernelspec": {
   "display_name": "Python 3",
   "language": "python",
   "name": "python3"
  },
  "language_info": {
   "codemirror_mode": {
    "name": "ipython",
    "version": 3
   },
   "file_extension": ".py",
   "mimetype": "text/x-python",
   "name": "python",
   "nbconvert_exporter": "python",
   "pygments_lexer": "ipython3",
   "version": "3.6.4"
  }
 },
 "nbformat": 4,
 "nbformat_minor": 2
}
