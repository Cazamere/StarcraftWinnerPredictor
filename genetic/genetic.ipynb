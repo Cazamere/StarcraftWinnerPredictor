{
 "cells": [
  {
   "cell_type": "code",
   "execution_count": 1,
   "metadata": {},
   "outputs": [],
   "source": [
    "import deap\n",
    "import pandas as pd\n",
    "import numpy as py"
   ]
  },
  {
   "cell_type": "code",
   "execution_count": null,
   "metadata": {},
   "outputs": [],
   "source": [
    "class Genetic:\n",
    "    \"\"\" Wrapper class for deap genetic algorithms\n",
    "    \"\"\"\n",
    "    \n",
    "    def _init_(self, beginning_networks, data):\n",
    "    \"\"\" Initialize genetic class\n",
    "    \n",
    "        :param: self: current genetic class\n",
    "        :param: beginning_networks: first neural networks to start evolving\n",
    "        :param: data: array/list/data structure of useful replay data\n",
    "    \"\"\"\n",
    "    \n",
    "        self.networks = beginning_networks\n",
    "        self.data = data\n",
    "        self.toolbox = Toolbox()\n",
    "    \n",
    "    def begin(self):\n",
    "    \"\"\" \n",
    "        Toolbox needs aliases: mate, mutate, select, evaluate\n",
    "    \"\"\"\n",
    "        self.toolbox.register(\"mate\", ,)\n",
    "        self.toolbox.register(\"mutate\", ,)\n",
    "        self.toolbox.register(\"select\", ,)\n",
    "        self.toolbox.register(\"evaluate\", ,)\n",
    "        \n",
    "        population = self.networks\n",
    "        cxpb = # probability of mating two individuals\n",
    "        mutpb = # probability of mutating an individual\n",
    "        ngen = 0\n",
    "        halloffame = # object with a function called update\n",
    "        \n",
    "        deap.algorithms.eaSimple(population, self.toolbox, cxpb, mutpb, ngen, halloffame)"
   ]
  }
 ],
 "metadata": {
  "kernelspec": {
   "display_name": "Python 3",
   "language": "python",
   "name": "python3"
  },
  "language_info": {
   "codemirror_mode": {
    "name": "ipython",
    "version": 3
   },
   "file_extension": ".py",
   "mimetype": "text/x-python",
   "name": "python",
   "nbconvert_exporter": "python",
   "pygments_lexer": "ipython3",
   "version": "3.6.4"
  }
 },
 "nbformat": 4,
 "nbformat_minor": 2
}
